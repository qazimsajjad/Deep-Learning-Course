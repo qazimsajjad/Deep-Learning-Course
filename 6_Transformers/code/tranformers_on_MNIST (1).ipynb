{
 "cells": [
  {
   "cell_type": "markdown",
   "metadata": {
    "id": "OslkspEjmL02"
   },
   "source": [
    "## Sequence In image\n",
    "\n",
    "![image.png](data:image/png;base64,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)\n",
    "\n",
    "![image.png](data:image/png;base64,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)"
   ]
  },
  {
   "cell_type": "code",
   "execution_count": null,
   "metadata": {
    "id": "LuabDTMXQWcJ"
   },
   "outputs": [],
   "source": [
    "import torch\n",
    "import torch.nn as nn\n",
    "import torch.optim as optim\n",
    "from torchvision import datasets, transforms\n",
    "from torch.utils.data import DataLoader\n",
    "import matplotlib.pyplot as plt\n",
    "import numpy as np"
   ]
  },
  {
   "cell_type": "code",
   "execution_count": null,
   "metadata": {
    "id": "RBgRil3JReG6"
   },
   "outputs": [],
   "source": [
    "device = 'cuda' if torch.cuda.is_available() else 'cpu'"
   ]
  },
  {
   "cell_type": "code",
   "execution_count": null,
   "metadata": {
    "colab": {
     "base_uri": "https://localhost:8080/"
    },
    "id": "UbIS-6ddQiaS",
    "outputId": "a80c9a12-4117-45f9-b7bd-79f6ed4fd751"
   },
   "outputs": [
    {
     "name": "stdout",
     "output_type": "stream",
     "text": [
      "Downloading http://yann.lecun.com/exdb/mnist/train-images-idx3-ubyte.gz\n",
      "Failed to download (trying next):\n",
      "HTTP Error 403: Forbidden\n",
      "\n",
      "Downloading https://ossci-datasets.s3.amazonaws.com/mnist/train-images-idx3-ubyte.gz\n",
      "Downloading https://ossci-datasets.s3.amazonaws.com/mnist/train-images-idx3-ubyte.gz to ./data/MNIST/raw/train-images-idx3-ubyte.gz\n"
     ]
    },
    {
     "name": "stderr",
     "output_type": "stream",
     "text": [
      "100%|██████████| 9912422/9912422 [00:00<00:00, 12751971.34it/s]\n"
     ]
    },
    {
     "name": "stdout",
     "output_type": "stream",
     "text": [
      "Extracting ./data/MNIST/raw/train-images-idx3-ubyte.gz to ./data/MNIST/raw\n",
      "\n",
      "Downloading http://yann.lecun.com/exdb/mnist/train-labels-idx1-ubyte.gz\n",
      "Failed to download (trying next):\n",
      "HTTP Error 403: Forbidden\n",
      "\n",
      "Downloading https://ossci-datasets.s3.amazonaws.com/mnist/train-labels-idx1-ubyte.gz\n",
      "Downloading https://ossci-datasets.s3.amazonaws.com/mnist/train-labels-idx1-ubyte.gz to ./data/MNIST/raw/train-labels-idx1-ubyte.gz\n"
     ]
    },
    {
     "name": "stderr",
     "output_type": "stream",
     "text": [
      "100%|██████████| 28881/28881 [00:00<00:00, 352806.31it/s]\n"
     ]
    },
    {
     "name": "stdout",
     "output_type": "stream",
     "text": [
      "Extracting ./data/MNIST/raw/train-labels-idx1-ubyte.gz to ./data/MNIST/raw\n",
      "\n",
      "Downloading http://yann.lecun.com/exdb/mnist/t10k-images-idx3-ubyte.gz\n",
      "Failed to download (trying next):\n",
      "HTTP Error 403: Forbidden\n",
      "\n",
      "Downloading https://ossci-datasets.s3.amazonaws.com/mnist/t10k-images-idx3-ubyte.gz\n",
      "Downloading https://ossci-datasets.s3.amazonaws.com/mnist/t10k-images-idx3-ubyte.gz to ./data/MNIST/raw/t10k-images-idx3-ubyte.gz\n"
     ]
    },
    {
     "name": "stderr",
     "output_type": "stream",
     "text": [
      "100%|██████████| 1648877/1648877 [00:00<00:00, 2795666.32it/s]\n"
     ]
    },
    {
     "name": "stdout",
     "output_type": "stream",
     "text": [
      "Extracting ./data/MNIST/raw/t10k-images-idx3-ubyte.gz to ./data/MNIST/raw\n",
      "\n",
      "Downloading http://yann.lecun.com/exdb/mnist/t10k-labels-idx1-ubyte.gz\n",
      "Failed to download (trying next):\n",
      "HTTP Error 403: Forbidden\n",
      "\n",
      "Downloading https://ossci-datasets.s3.amazonaws.com/mnist/t10k-labels-idx1-ubyte.gz\n",
      "Downloading https://ossci-datasets.s3.amazonaws.com/mnist/t10k-labels-idx1-ubyte.gz to ./data/MNIST/raw/t10k-labels-idx1-ubyte.gz\n"
     ]
    },
    {
     "name": "stderr",
     "output_type": "stream",
     "text": [
      "100%|██████████| 4542/4542 [00:00<00:00, 10473077.94it/s]"
     ]
    },
    {
     "name": "stdout",
     "output_type": "stream",
     "text": [
      "Extracting ./data/MNIST/raw/t10k-labels-idx1-ubyte.gz to ./data/MNIST/raw\n",
      "\n"
     ]
    },
    {
     "name": "stderr",
     "output_type": "stream",
     "text": [
      "\n"
     ]
    }
   ],
   "source": [
    "\n",
    "# 1. Load and Preprocess the MNIST Dataset\n",
    "transform = transforms.Compose([\n",
    "    transforms.ToTensor(),\n",
    "    transforms.Normalize((0.5,), (0.5,))\n",
    "])\n",
    "\n",
    "train_dataset = datasets.MNIST(root='./data', train=True, transform=transform, download=True)\n",
    "test_dataset = datasets.MNIST(root='./data', train=False, transform=transform, download=True)\n",
    "\n",
    "train_loader = DataLoader(train_dataset, batch_size=64, shuffle=True)\n",
    "test_loader = DataLoader(test_dataset, batch_size=1000, shuffle=False)"
   ]
  },
  {
   "cell_type": "code",
   "execution_count": null,
   "metadata": {
    "id": "sIL_KRS5Qfrl"
   },
   "outputs": [],
   "source": [
    "\n",
    "\n",
    "# 2. Define the Transformer Model\n",
    "class TransformerModel(nn.Module):\n",
    "    def __init__(self, input_dim, model_dim, num_classes, num_heads, num_layers, dropout=0.1):\n",
    "        super(TransformerModel, self).__init__()\n",
    "        self.input_embedding = nn.Linear(input_dim, model_dim)\n",
    "        self.position_encoding = nn.Parameter(torch.zeros(1, 28, model_dim)) # Learnable positional encoding\n",
    "\n",
    "        encoder_layer = nn.TransformerEncoderLayer(d_model=model_dim, nhead=num_heads, dropout=dropout)\n",
    "        self.transformer_encoder = nn.TransformerEncoder(encoder_layer, num_layers=num_layers)\n",
    "\n",
    "        self.fc = nn.Linear(model_dim * 28, num_classes) # Flatten 28 * model_dim\n",
    "\n",
    "    def forward(self, x):\n",
    "        x = self.input_embedding(x)\n",
    "        x = x + self.position_encoding\n",
    "        x = self.transformer_encoder(x)\n",
    "        x = x.view(x.size(0), -1) # Flatten\n",
    "        x = self.fc(x)\n",
    "        return x\n"
   ]
  },
  {
   "cell_type": "code",
   "execution_count": null,
   "metadata": {
    "colab": {
     "base_uri": "https://localhost:8080/"
    },
    "id": "4rxinv-vQq2K",
    "outputId": "40d62e5d-7c5c-498d-e3c0-49dd3a553976"
   },
   "outputs": [
    {
     "name": "stderr",
     "output_type": "stream",
     "text": [
      "/usr/local/lib/python3.10/dist-packages/torch/nn/modules/transformer.py:306: UserWarning: enable_nested_tensor is True, but self.use_nested_tensor is False because encoder_layer.self_attn.batch_first was not True(use batch_first for better inference performance)\n",
      "  warnings.warn(f\"enable_nested_tensor is True, but self.use_nested_tensor is False because {why_not_sparsity_fast_path}\")\n"
     ]
    }
   ],
   "source": [
    "# 3. Instantiate the Model, Loss Function, and Optimizer\n",
    "model = TransformerModel(input_dim=28, model_dim=64, num_classes=10, num_heads=4, num_layers=2).to(device)\n",
    "criterion = nn.CrossEntropyLoss()\n",
    "optimizer = optim.Adam(model.parameters(), lr=0.001)"
   ]
  },
  {
   "cell_type": "code",
   "execution_count": null,
   "metadata": {
    "colab": {
     "base_uri": "https://localhost:8080/"
    },
    "id": "mPn0yQLUQpWA",
    "outputId": "c70421f3-6d55-42f6-a730-dce4c713f528"
   },
   "outputs": [
    {
     "name": "stdout",
     "output_type": "stream",
     "text": [
      "Epoch [1/5], Loss: 0.2409\n",
      "Epoch [2/5], Loss: 0.1522\n",
      "Epoch [3/5], Loss: 0.1332\n",
      "Epoch [4/5], Loss: 0.1214\n",
      "Epoch [5/5], Loss: 0.1133\n"
     ]
    }
   ],
   "source": [
    "# 4. Train the Model\n",
    "num_epochs = 5\n",
    "\n",
    "for epoch in range(num_epochs):\n",
    "    model.train()\n",
    "    running_loss = 0.0\n",
    "    for images, labels in train_loader:\n",
    "        # Reshape images to (batch_size, sequence_length, input_dim)\n",
    "        images = images.view(-1, 28, 28)\n",
    "        images = images.to(device)\n",
    "        labels = labels.to(device)\n",
    "        optimizer.zero_grad()\n",
    "        outputs = model(images)\n",
    "        loss = criterion(outputs, labels)\n",
    "        loss.backward()\n",
    "        optimizer.step()\n",
    "\n",
    "        running_loss += loss.item()\n",
    "\n",
    "    print(f'Epoch [{epoch+1}/{num_epochs}], Loss: {running_loss/len(train_loader):.4f}')"
   ]
  },
  {
   "cell_type": "code",
   "execution_count": null,
   "metadata": {
    "colab": {
     "base_uri": "https://localhost:8080/"
    },
    "id": "Q3DYdaqzQ2rW",
    "outputId": "a758b540-a548-4acd-93fa-57a9b1f034d6"
   },
   "outputs": [
    {
     "name": "stdout",
     "output_type": "stream",
     "text": [
      "Accuracy of the model on the test images: 96.86%\n"
     ]
    }
   ],
   "source": [
    "# 5. Evaluate the Model\n",
    "model.eval()\n",
    "correct = 0\n",
    "total = 0\n",
    "\n",
    "with torch.no_grad():\n",
    "    for images, labels in test_loader:\n",
    "        images = images.view(-1, 28, 28).to(device)\n",
    "        labels = labels.to(device)\n",
    "        outputs = model(images)\n",
    "        _, predicted = torch.max(outputs.data, 1)\n",
    "        total += labels.size(0)\n",
    "        correct += (predicted == labels).sum().item()\n",
    "\n",
    "print(f'Accuracy of the model on the test images: {100 * correct / total}%')"
   ]
  }
 ],
 "metadata": {
  "accelerator": "GPU",
  "colab": {
   "gpuType": "T4",
   "provenance": []
  },
  "kernelspec": {
   "display_name": "Python 3 (ipykernel)",
   "language": "python",
   "name": "python3"
  },
  "language_info": {
   "codemirror_mode": {
    "name": "ipython",
    "version": 3
   },
   "file_extension": ".py",
   "mimetype": "text/x-python",
   "name": "python",
   "nbconvert_exporter": "python",
   "pygments_lexer": "ipython3",
   "version": "3.11.5"
  }
 },
 "nbformat": 4,
 "nbformat_minor": 1
}
